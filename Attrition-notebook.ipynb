{
 "cells": [
  {
   "cell_type": "code",
   "execution_count": 31,
   "metadata": {
    "collapsed": false
   },
   "outputs": [
    {
     "name": "stdout",
     "output_type": "stream",
     "text": [
      "C:\\Users\\G560667\\All-Data\n",
      "C:\\Users\\G560667\\All-Data\n"
     ]
    }
   ],
   "source": [
    "import pandas as pd\n",
    "from pandas import Series,DataFrame\n",
    "from sklearn.utils import shuffle\n",
    "import os\n",
    "cwd = os.getcwd()\n",
    "print(cwd)\n",
    "os.chdir('C:\\\\Users\\\\G560667\\\\All-Data\\\\')\n",
    "print(cwd)"
   ]
  },
  {
   "cell_type": "code",
   "execution_count": 32,
   "metadata": {
    "collapsed": false
   },
   "outputs": [],
   "source": [
    "# numpy, matplotlib\n",
    "import numpy as np\n",
    "import matplotlib.pyplot as plt\n",
    "%matplotlib inline"
   ]
  },
  {
   "cell_type": "code",
   "execution_count": 33,
   "metadata": {
    "collapsed": false
   },
   "outputs": [
    {
     "name": "stdout",
     "output_type": "stream",
     "text": [
      "C:\\Users\\G560667\\All-Data\n"
     ]
    }
   ],
   "source": [
    "print(cwd)"
   ]
  },
  {
   "cell_type": "code",
   "execution_count": 34,
   "metadata": {
    "collapsed": false
   },
   "outputs": [],
   "source": [
    "df = pd.read_csv('train.csv')\n",
    "\n",
    "df_test=pd.read_csv('test.csv')"
   ]
  },
  {
   "cell_type": "code",
   "execution_count": 35,
   "metadata": {
    "collapsed": false
   },
   "outputs": [
    {
     "data": {
      "text/plain": [
       "<bound method NDFrame.describe of         ID  satisfaction_level  last_evaluation_rating  projects_worked_on  \\\n",
       "0        1                 7.2                     8.7                   6   \n",
       "1        2                 4.5                     5.4                   3   \n",
       "2        3                 4.1                     5.5                   3   \n",
       "3        4                 3.6                     5.6                   3   \n",
       "4        5                 4.5                     4.7                   3   \n",
       "5        6                 7.8                     9.9                   5   \n",
       "6        7                 4.5                     5.1                   3   \n",
       "7        8                 0.9                     9.5                   7   \n",
       "8        9                 4.6                     5.7                   3   \n",
       "9       10                 4.0                     5.3                   3   \n",
       "10      11                 3.8                     5.0                   3   \n",
       "11      12                 4.5                     5.7                   3   \n",
       "12      13                 3.8                     4.6                   3   \n",
       "13      14                 4.1                     5.4                   3   \n",
       "14      15                 1.0                     8.0                   8   \n",
       "15      16                 4.3                     4.7                   3   \n",
       "16      17                 1.3                     7.8                   7   \n",
       "17      18                 1.0                     9.2                   8   \n",
       "18      19                 3.7                     4.6                   3   \n",
       "19      20                 1.1                     9.4                   8   \n",
       "20      21                 3.8                     5.4                   3   \n",
       "21      22                 8.5                    10.0                   5   \n",
       "22      23                 4.3                     5.4                   3   \n",
       "23      24                 4.3                     5.0                   3   \n",
       "24      25                 0.9                     7.7                   6   \n",
       "25      26                 4.3                     5.6                   3   \n",
       "26      27                 3.9                     5.6                   3   \n",
       "27      28                 7.9                     5.9                   5   \n",
       "28      29                 8.4                     8.5                   5   \n",
       "29      30                 1.1                     7.7                   7   \n",
       "...    ...                 ...                     ...                 ...   \n",
       "4477  4478                 1.1                     9.3                   6   \n",
       "4478  4479                 4.5                     4.6                   3   \n",
       "4479  4480                 4.4                     5.6                   3   \n",
       "4480  4481                 1.1                     7.7                   7   \n",
       "4481  4482                 7.9                     9.3                   6   \n",
       "4482  4483                 8.0                     9.0                   6   \n",
       "4483  4484                 7.0                     8.4                   7   \n",
       "4484  4485                 1.1                     8.0                   7   \n",
       "4485  4486                 1.1                     8.6                   7   \n",
       "4486  4487                 4.3                     5.0                   3   \n",
       "4487  4488                 8.7                     8.8                   6   \n",
       "4488  4489                 7.6                     9.8                   6   \n",
       "4489  4490                 8.5                     8.7                   5   \n",
       "4490  4491                 1.0                     7.8                   6   \n",
       "4491  4492                 4.3                     4.9                   3   \n",
       "4492  4493                 8.1                     9.2                   6   \n",
       "4493  4494                 7.2                     9.4                   5   \n",
       "4494  4495                 3.7                     4.9                   3   \n",
       "4495  4496                 7.8                     6.6                   4   \n",
       "4496  4497                 4.5                     4.6                   3   \n",
       "4497  4498                 8.3                     8.1                   6   \n",
       "4498  4499                 4.3                     5.1                   3   \n",
       "4499  4500                 1.1                     9.7                   7   \n",
       "4500  4501                 3.6                     5.2                   3   \n",
       "4501  4502                 4.0                     4.7                   3   \n",
       "4502  4503                 0.9                     9.3                   7   \n",
       "4503  4504                 7.6                     8.9                   6   \n",
       "4504  4505                 7.2                     8.4                   6   \n",
       "4505  4506                 4.6                     5.5                   3   \n",
       "4506  4507                 0.9                     8.1                   7   \n",
       "\n",
       "      average_montly_hours  time_spend_company  Work_accident  \\\n",
       "0                      233                   5              0   \n",
       "1                      145                   3              0   \n",
       "2                      158                   3              0   \n",
       "3                      147                   3              0   \n",
       "4                      170                   3              0   \n",
       "5                      265                   6              0   \n",
       "6                      170                   3              1   \n",
       "7                      314                   4              0   \n",
       "8                      149                   3              0   \n",
       "9                      168                   3              0   \n",
       "10                     142                   3              0   \n",
       "11                     144                   3              0   \n",
       "12                     147                   3              0   \n",
       "13                     162                   3              0   \n",
       "14                     291                   4              0   \n",
       "15                     157                   3              0   \n",
       "16                     162                   2              0   \n",
       "17                     317                   4              0   \n",
       "18                     150                   3              0   \n",
       "19                     265                   4              0   \n",
       "20                     138                   3              0   \n",
       "21                     235                   5              0   \n",
       "22                     163                   3              0   \n",
       "23                     145                   3              0   \n",
       "24                     285                   4              0   \n",
       "25                     167                   3              0   \n",
       "26                     152                   3              0   \n",
       "27                     149                   3              0   \n",
       "28                     259                   6              0   \n",
       "29                     301                   4              0   \n",
       "...                    ...                 ...            ...   \n",
       "4477                   150                   5              0   \n",
       "4478                   169                   3              0   \n",
       "4479                   143                   3              0   \n",
       "4480                   257                   4              0   \n",
       "4481                   278                   5              0   \n",
       "4482                   277                   5              0   \n",
       "4483                   171                   4              0   \n",
       "4484                   314                   4              0   \n",
       "4485                   296                   4              0   \n",
       "4486                   158                   3              0   \n",
       "4487                   250                   5              0   \n",
       "4488                   227                   6              0   \n",
       "4489                   283                   5              0   \n",
       "4490                   295                   4              1   \n",
       "4491                   141                   3              0   \n",
       "4492                   249                   5              0   \n",
       "4493                   268                   5              0   \n",
       "4494                   158                   3              0   \n",
       "4495                   174                   3              0   \n",
       "4496                   159                   3              0   \n",
       "4497                   229                   5              0   \n",
       "4498                   138                   3              0   \n",
       "4499                   320                   4              0   \n",
       "4500                   153                   3              0   \n",
       "4501                   146                   3              0   \n",
       "4502                   306                   4              0   \n",
       "4503                   248                   5              0   \n",
       "4504                   267                   5              0   \n",
       "4505                   155                   3              0   \n",
       "4506                   267                   4              0   \n",
       "\n",
       "      promotion_last_5years   Department  salary  Attrition  \n",
       "0                         0        sales     low          1  \n",
       "1                         0        sales     low          1  \n",
       "2                         0        sales     low          1  \n",
       "3                         0        sales     low          1  \n",
       "4                         0        sales     low          1  \n",
       "5                         0        sales     low          1  \n",
       "6                         1        sales     low          1  \n",
       "7                         0        sales     low          1  \n",
       "8                         0        sales     low          1  \n",
       "9                         0        sales     low          1  \n",
       "10                        0   accounting     low          1  \n",
       "11                        0           hr     low          1  \n",
       "12                        0    technical     low          1  \n",
       "13                        0    technical     low          1  \n",
       "14                        0    technical     low          1  \n",
       "15                        0      support     low          1  \n",
       "16                        0      support     low          1  \n",
       "17                        0      support     low          1  \n",
       "18                        0      support     low          1  \n",
       "19                        0      support     low          1  \n",
       "20                        0    technical     low          1  \n",
       "21                        0    technical     low          1  \n",
       "22                        0  product_mng  medium          1  \n",
       "23                        0  product_mng  medium          1  \n",
       "24                        0  product_mng  medium          1  \n",
       "25                        0        sales     low          1  \n",
       "26                        0   accounting     low          1  \n",
       "27                        1   management     low          1  \n",
       "28                        0    marketing     low          1  \n",
       "29                        0    marketing     low          1  \n",
       "...                     ...          ...     ...        ...  \n",
       "4477                      0           hr  medium          1  \n",
       "4478                      0           hr    high          1  \n",
       "4479                      0    technical  medium          1  \n",
       "4480                      0    technical  medium          1  \n",
       "4481                      0    technical  medium          1  \n",
       "4482                      0    technical  medium          1  \n",
       "4483                      0    technical     low          1  \n",
       "4484                      0    technical     low          1  \n",
       "4485                      0      support     low          1  \n",
       "4486                      0      support     low          1  \n",
       "4487                      0           IT  medium          1  \n",
       "4488                      0  product_mng  medium          1  \n",
       "4489                      0        RandD  medium          1  \n",
       "4490                      0        RandD  medium          1  \n",
       "4491                      0        RandD    high          1  \n",
       "4492                      0        RandD  medium          1  \n",
       "4493                      0        sales     low          1  \n",
       "4494                      0        sales     low          1  \n",
       "4495                      0        sales     low          1  \n",
       "4496                      0        sales     low          1  \n",
       "4497                      0        sales     low          1  \n",
       "4498                      0        sales     low          1  \n",
       "4499                      0   accounting  medium          1  \n",
       "4500                      0   accounting  medium          1  \n",
       "4501                      0           hr  medium          1  \n",
       "4502                      0    technical  medium          1  \n",
       "4503                      0    technical    high          1  \n",
       "4504                      0    technical  medium          1  \n",
       "4505                      0    technical     low          1  \n",
       "4506                      0      support     low          1  \n",
       "\n",
       "[4507 rows x 11 columns]>"
      ]
     },
     "execution_count": 35,
     "metadata": {},
     "output_type": "execute_result"
    }
   ],
   "source": [
    "df.describe\n",
    "df_test.describe"
   ]
  },
  {
   "cell_type": "code",
   "execution_count": 36,
   "metadata": {
    "collapsed": false
   },
   "outputs": [
    {
     "data": {
      "text/plain": [
       "(4507, 11)"
      ]
     },
     "execution_count": 36,
     "metadata": {},
     "output_type": "execute_result"
    }
   ],
   "source": [
    "df.shape\n",
    "df_test.shape"
   ]
  },
  {
   "cell_type": "code",
   "execution_count": 37,
   "metadata": {
    "collapsed": false
   },
   "outputs": [
    {
     "name": "stdout",
     "output_type": "stream",
     "text": [
      "       satisfaction_level  last_evaluation_rating  projects_worked_on  \\\n",
      "count        25491.000000            25491.000000        25491.000000   \n",
      "mean             6.137704                7.167832            4.215174   \n",
      "std              2.486316                1.710754            1.324228   \n",
      "min              0.900000                3.600000            2.000000   \n",
      "25%              4.400000                5.600000            3.000000   \n",
      "50%              6.500000                7.200000            4.000000   \n",
      "75%              8.200000                8.700000            5.000000   \n",
      "max             10.000000               10.000000            8.000000   \n",
      "\n",
      "       average_montly_hours  time_spend_company  Work_accident  \\\n",
      "count          25491.000000        25491.000000   25491.000000   \n",
      "mean             205.286846            3.497156       0.146012   \n",
      "std               50.182916            1.457715       0.353125   \n",
      "min               96.000000            2.000000       0.000000   \n",
      "25%              160.000000            3.000000       0.000000   \n",
      "50%              204.000000            3.000000       0.000000   \n",
      "75%              249.000000            4.000000       0.000000   \n",
      "max              320.000000           10.000000       1.000000   \n",
      "\n",
      "       promotion_last_5years     Attrition  \n",
      "count           25491.000000  25491.000000  \n",
      "mean                0.021419      0.234985  \n",
      "std                 0.144780      0.423998  \n",
      "min                 0.000000      0.000000  \n",
      "25%                 0.000000      0.000000  \n",
      "50%                 0.000000      0.000000  \n",
      "75%                 0.000000      0.000000  \n",
      "max                 1.000000      1.000000  \n",
      "                ID  satisfaction_level  last_evaluation_rating  \\\n",
      "count  4507.000000         4507.000000             4507.000000   \n",
      "mean   2254.000000            6.075349                7.122476   \n",
      "std    1301.203161            2.485588                1.716473   \n",
      "min       1.000000            0.900000                3.600000   \n",
      "25%    1127.500000            4.300000                5.500000   \n",
      "50%    2254.000000            6.400000                7.100000   \n",
      "75%    3380.500000            8.100000                8.600000   \n",
      "max    4507.000000           10.000000               10.000000   \n",
      "\n",
      "       projects_worked_on  average_montly_hours  time_spend_company  \\\n",
      "count         4507.000000           4507.000000         4507.000000   \n",
      "mean             4.800089            210.368538            3.504327   \n",
      "std              1.251974             50.029642            1.473743   \n",
      "min              3.000000            106.000000            2.000000   \n",
      "25%              4.000000            165.000000            3.000000   \n",
      "50%              5.000000            209.000000            3.000000   \n",
      "75%              6.000000            254.000000            4.000000   \n",
      "max              8.000000            320.000000           10.000000   \n",
      "\n",
      "       Work_accident  promotion_last_5years    Attrition  \n",
      "count    4507.000000            4507.000000  4507.000000  \n",
      "mean        0.136676               0.020413     0.255602  \n",
      "std         0.343543               0.141423     0.436248  \n",
      "min         0.000000               0.000000     0.000000  \n",
      "25%         0.000000               0.000000     0.000000  \n",
      "50%         0.000000               0.000000     0.000000  \n",
      "75%         0.000000               0.000000     1.000000  \n",
      "max         1.000000               1.000000     1.000000  \n"
     ]
    }
   ],
   "source": [
    "print(df.describe())\n",
    "print(df_test.describe())"
   ]
  },
  {
   "cell_type": "code",
   "execution_count": 38,
   "metadata": {
    "collapsed": false
   },
   "outputs": [
    {
     "name": "stdout",
     "output_type": "stream",
     "text": [
      "<class 'pandas.core.frame.DataFrame'>\n",
      "RangeIndex: 25491 entries, 0 to 25490\n",
      "Data columns (total 10 columns):\n",
      "satisfaction_level        25491 non-null float64\n",
      "last_evaluation_rating    25491 non-null float64\n",
      "projects_worked_on        25491 non-null int64\n",
      "average_montly_hours      25491 non-null int64\n",
      "time_spend_company        25491 non-null int64\n",
      "Work_accident             25491 non-null int64\n",
      "promotion_last_5years     25491 non-null int64\n",
      "Department                25491 non-null object\n",
      "salary                    25491 non-null object\n",
      "Attrition                 25491 non-null int64\n",
      "dtypes: float64(2), int64(6), object(2)\n",
      "memory usage: 1.9+ MB\n",
      "<class 'pandas.core.frame.DataFrame'>\n",
      "RangeIndex: 4507 entries, 0 to 4506\n",
      "Data columns (total 11 columns):\n",
      "ID                        4507 non-null int64\n",
      "satisfaction_level        4507 non-null float64\n",
      "last_evaluation_rating    4507 non-null float64\n",
      "projects_worked_on        4507 non-null int64\n",
      "average_montly_hours      4507 non-null int64\n",
      "time_spend_company        4507 non-null int64\n",
      "Work_accident             4507 non-null int64\n",
      "promotion_last_5years     4507 non-null int64\n",
      "Department                4507 non-null object\n",
      "salary                    4507 non-null object\n",
      "Attrition                 4507 non-null int64\n",
      "dtypes: float64(2), int64(7), object(2)\n",
      "memory usage: 387.4+ KB\n"
     ]
    }
   ],
   "source": [
    "df.info()\n",
    "#--------------------\n",
    "df_test.info()"
   ]
  },
  {
   "cell_type": "code",
   "execution_count": 39,
   "metadata": {
    "collapsed": false
   },
   "outputs": [
    {
     "data": {
      "text/html": [
       "<div>\n",
       "<table border=\"1\" class=\"dataframe\">\n",
       "  <thead>\n",
       "    <tr style=\"text-align: right;\">\n",
       "      <th></th>\n",
       "      <th>satisfaction_level</th>\n",
       "      <th>last_evaluation_rating</th>\n",
       "      <th>projects_worked_on</th>\n",
       "      <th>average_montly_hours</th>\n",
       "      <th>time_spend_company</th>\n",
       "      <th>Work_accident</th>\n",
       "      <th>promotion_last_5years</th>\n",
       "      <th>Department</th>\n",
       "      <th>salary</th>\n",
       "      <th>Attrition</th>\n",
       "    </tr>\n",
       "  </thead>\n",
       "  <tbody>\n",
       "    <tr>\n",
       "      <th>25486</th>\n",
       "      <td>4.0</td>\n",
       "      <td>5.7</td>\n",
       "      <td>2</td>\n",
       "      <td>151</td>\n",
       "      <td>3</td>\n",
       "      <td>0</td>\n",
       "      <td>0</td>\n",
       "      <td>support</td>\n",
       "      <td>low</td>\n",
       "      <td>1</td>\n",
       "    </tr>\n",
       "    <tr>\n",
       "      <th>25487</th>\n",
       "      <td>3.7</td>\n",
       "      <td>4.8</td>\n",
       "      <td>2</td>\n",
       "      <td>160</td>\n",
       "      <td>3</td>\n",
       "      <td>0</td>\n",
       "      <td>0</td>\n",
       "      <td>support</td>\n",
       "      <td>low</td>\n",
       "      <td>1</td>\n",
       "    </tr>\n",
       "    <tr>\n",
       "      <th>25488</th>\n",
       "      <td>3.7</td>\n",
       "      <td>5.3</td>\n",
       "      <td>2</td>\n",
       "      <td>143</td>\n",
       "      <td>3</td>\n",
       "      <td>0</td>\n",
       "      <td>0</td>\n",
       "      <td>support</td>\n",
       "      <td>low</td>\n",
       "      <td>1</td>\n",
       "    </tr>\n",
       "    <tr>\n",
       "      <th>25489</th>\n",
       "      <td>1.1</td>\n",
       "      <td>9.6</td>\n",
       "      <td>6</td>\n",
       "      <td>280</td>\n",
       "      <td>4</td>\n",
       "      <td>0</td>\n",
       "      <td>0</td>\n",
       "      <td>support</td>\n",
       "      <td>low</td>\n",
       "      <td>1</td>\n",
       "    </tr>\n",
       "    <tr>\n",
       "      <th>25490</th>\n",
       "      <td>3.7</td>\n",
       "      <td>5.2</td>\n",
       "      <td>2</td>\n",
       "      <td>158</td>\n",
       "      <td>3</td>\n",
       "      <td>0</td>\n",
       "      <td>0</td>\n",
       "      <td>support</td>\n",
       "      <td>low</td>\n",
       "      <td>1</td>\n",
       "    </tr>\n",
       "  </tbody>\n",
       "</table>\n",
       "</div>"
      ],
      "text/plain": [
       "       satisfaction_level  last_evaluation_rating  projects_worked_on  \\\n",
       "25486                 4.0                     5.7                   2   \n",
       "25487                 3.7                     4.8                   2   \n",
       "25488                 3.7                     5.3                   2   \n",
       "25489                 1.1                     9.6                   6   \n",
       "25490                 3.7                     5.2                   2   \n",
       "\n",
       "       average_montly_hours  time_spend_company  Work_accident  \\\n",
       "25486                   151                   3              0   \n",
       "25487                   160                   3              0   \n",
       "25488                   143                   3              0   \n",
       "25489                   280                   4              0   \n",
       "25490                   158                   3              0   \n",
       "\n",
       "       promotion_last_5years Department salary  Attrition  \n",
       "25486                      0    support    low          1  \n",
       "25487                      0    support    low          1  \n",
       "25488                      0    support    low          1  \n",
       "25489                      0    support    low          1  \n",
       "25490                      0    support    low          1  "
      ]
     },
     "execution_count": 39,
     "metadata": {},
     "output_type": "execute_result"
    }
   ],
   "source": [
    "df.tail()"
   ]
  },
  {
   "cell_type": "code",
   "execution_count": 40,
   "metadata": {
    "collapsed": false
   },
   "outputs": [
    {
     "data": {
      "text/plain": [
       "<matplotlib.axes._subplots.AxesSubplot at 0x1536f18bf60>"
      ]
     },
     "execution_count": 40,
     "metadata": {},
     "output_type": "execute_result"
    },
    {
     "data": {
      "image/png": "[encoded data removed]",
      "text/plain": [
       "<matplotlib.figure.Figure at 0x1536f19a668>"
      ]
     },
     "metadata": {},
     "output_type": "display_data"
    }
   ],
   "source": [
    "df['Work_accident'].plot(kind='hist')"
   ]
  },
  {
   "cell_type": "code",
   "execution_count": 41,
   "metadata": {
    "collapsed": false
   },
   "outputs": [
    {
     "data": {
      "text/plain": [
       "<matplotlib.axes._subplots.AxesSubplot at 0x1536f2f77f0>"
      ]
     },
     "execution_count": 41,
     "metadata": {},
     "output_type": "execute_result"
    },
    {
     "data": {
      "image/png": "[encoded data removed]",
      "text/plain": [
       "<matplotlib.figure.Figure at 0x1536f2fcc50>"
      ]
     },
     "metadata": {},
     "output_type": "display_data"
    }
   ],
   "source": [
    "df.groupby('Attrition').size().plot(kind='bar')"
   ]
  },
  {
   "cell_type": "code",
   "execution_count": 42,
   "metadata": {
    "collapsed": false
   },
   "outputs": [],
   "source": [
    "import seaborn as sns"
   ]
  },
  {
   "cell_type": "code",
   "execution_count": 43,
   "metadata": {
    "collapsed": false
   },
   "outputs": [
    {
     "data": {
      "text/plain": [
       "<seaborn.axisgrid.FacetGrid at 0x1536f4d8710>"
      ]
     },
     "execution_count": 43,
     "metadata": {},
     "output_type": "execute_result"
    },
    {
     "data": {
      "image/png": "[encoded data removed]",
      "text/plain": [
       "<matplotlib.figure.Figure at 0x1536f4d84e0>"
      ]
     },
     "metadata": {},
     "output_type": "display_data"
    }
   ],
   "source": [
    "sns.factorplot(data=df, x=\"Attrition\", y=\"last_evaluation_rating\",col=\"Department\")"
   ]
  },
  {
   "cell_type": "code",
   "execution_count": 44,
   "metadata": {
    "collapsed": false
   },
   "outputs": [
    {
     "name": "stderr",
     "output_type": "stream",
     "text": [
      "C:\\Users\\G560667\\AppData\\Local\\Continuum\\Anaconda3\\lib\\site-packages\\statsmodels\\nonparametric\\kdetools.py:20: VisibleDeprecationWarning: using a non-integer number instead of an integer will result in an error in the future\n",
      "  y = X[:m/2+1] + np.r_[0,X[m/2+1:],0]*1j\n"
     ]
    },
    {
     "data": {
      "text/plain": [
       "<seaborn.axisgrid.FacetGrid at 0x1536efac470>"
      ]
     },
     "execution_count": 44,
     "metadata": {},
     "output_type": "execute_result"
    },
    {
     "data": {
      "image/png": "[encoded data removed]",
      "text/plain": [
       "<matplotlib.figure.Figure at 0x1536b650c50>"
      ]
     },
     "metadata": {},
     "output_type": "display_data"
    }
   ],
   "source": [
    "g = sns.FacetGrid(df, col=\"Department\") \n",
    "g.map(sns.distplot, \"last_evaluation_rating\")"
   ]
  },
  {
   "cell_type": "code",
   "execution_count": 45,
   "metadata": {
    "collapsed": false
   },
   "outputs": [
    {
     "data": {
      "text/plain": [
       "<matplotlib.axes._subplots.AxesSubplot at 0x1536fbdd160>"
      ]
     },
     "execution_count": 45,
     "metadata": {},
     "output_type": "execute_result"
    },
    {
     "data": {
      "image/png": "[encoded data removed]",
      "text/plain": [
       "<matplotlib.figure.Figure at 0x1536f6d1cf8>"
      ]
     },
     "metadata": {},
     "output_type": "display_data"
    }
   ],
   "source": [
    "fig, ax = plt.subplots(1,3,figsize=(15,5))\n",
    "sns.countplot(x='Department', data=df, ax=ax[0])\n",
    "sns.countplot(x='Attrition', hue=\"Department\", data=df, ax=ax[1])\n",
    "\n",
    "##Attrition By Department\n",
    "Attrib = df[[\"Department\", \"Attrition\"]].groupby(['Department'],as_index=False).mean()\n",
    "sns.barplot(x='Department', y='Attrition', data=Attrib,ax=ax[2])\n",
    "#Attrib"
   ]
  },
  {
   "cell_type": "code",
   "execution_count": 46,
   "metadata": {
    "collapsed": true
   },
   "outputs": [],
   "source": [
    "## Do it on Train and Test Set\n",
    "\n",
    "department_dummies  = pd.get_dummies(df['Department'])\n",
    "df = df.join(department_dummies)\n",
    "df.drop(['Department'], axis=1,inplace=True)\n",
    "\n",
    "department_dummies  = pd.get_dummies(df_test['Department'])\n",
    "df_test = df_test.join(department_dummies)\n",
    "df_test.drop(['Department'], axis=1,inplace=True)"
   ]
  },
  {
   "cell_type": "code",
   "execution_count": 47,
   "metadata": {
    "collapsed": false
   },
   "outputs": [
    {
     "data": {
      "text/plain": [
       "<matplotlib.axes._subplots.AxesSubplot at 0x1536ffd0e80>"
      ]
     },
     "execution_count": 47,
     "metadata": {},
     "output_type": "execute_result"
    },
    {
     "data": {
      "image/png": "[encoded data removed]",
      "text/plain": [
       "<matplotlib.figure.Figure at 0x1536fb02a20>"
      ]
     },
     "metadata": {},
     "output_type": "display_data"
    },
    {
     "data": {
      "image/png": "[encoded data removed]",
      "text/plain": [
       "<matplotlib.figure.Figure at 0x15369c1eac8>"
      ]
     },
     "metadata": {},
     "output_type": "display_data"
    }
   ],
   "source": [
    "## satisfaction_level analysis\n",
    "satisf_left= df[\"satisfaction_level\"][df[\"Attrition\"] == 0]\n",
    "satisf_not_left = df[\"satisfaction_level\"][df[\"Attrition\"] == 1]\n",
    "\n",
    "avgerage_satisf = DataFrame([satisf_left.mean(), satisf_not_left.mean()])\n",
    "std_satisf      = DataFrame([satisf_left.std(), satisf_not_left.std()])\n",
    "\n",
    "df['satisfaction_level'].plot(kind='hist', figsize=(15,3),bins=100, xlim=(0,10))\n",
    "\n",
    "avgerage_satisf.index.names = std_satisf.index.names = [\"Attrition\"]\n",
    "avgerage_satisf.plot(yerr=std_satisf,kind='bar',legend=False)"
   ]
  },
  {
   "cell_type": "code",
   "execution_count": 48,
   "metadata": {
    "collapsed": true
   },
   "outputs": [],
   "source": [
    "## Salary Analysis\n",
    "\n",
    "salary_dummies  = pd.get_dummies(df['salary'])\n",
    "df = df.join(salary_dummies)\n",
    "df.drop(['salary'], axis=1,inplace=True)\n",
    "\n",
    "salary_dummies   = pd.get_dummies(df_test['salary'])\n",
    "df_test = df_test.join(salary_dummies)\n",
    "df_test.drop(['salary'], axis=1,inplace=True)"
   ]
  },
  {
   "cell_type": "code",
   "execution_count": 49,
   "metadata": {
    "collapsed": true
   },
   "outputs": [],
   "source": [
    "#promotion_last_5years\n",
    "\n",
    "promotion_dummies  = pd.get_dummies(df['promotion_last_5years'])\n",
    "df = df.join(promotion_dummies)\n",
    "df.drop(['promotion_last_5years'], axis=1,inplace=True)\n",
    "\n",
    "promotion_dummies   = pd.get_dummies(df_test['promotion_last_5years'])\n",
    "df_test = df_test.join(promotion_dummies)\n",
    "df_test.drop(['promotion_last_5years'], axis=1,inplace=True)"
   ]
  },
  {
   "cell_type": "code",
   "execution_count": 50,
   "metadata": {
    "collapsed": false
   },
   "outputs": [],
   "source": [
    "#Work_accident\n",
    "\n",
    "acc_dummies  = pd.get_dummies(df['Work_accident']).rename(columns=lambda x: 'Category_' + str(x))\n",
    "df = df.join(acc_dummies)\n",
    "df.drop(['Work_accident'], axis=1,inplace=True)\n",
    "\n",
    "acc_dummies   = pd.get_dummies(df_test['Work_accident']).rename(columns=lambda x: 'Category_' + str(x))\n",
    "df_test = df_test.join(acc_dummies)\n",
    "df_test.drop(['Work_accident'], axis=1,inplace=True)"
   ]
  },
  {
   "cell_type": "code",
   "execution_count": 51,
   "metadata": {
    "collapsed": false
   },
   "outputs": [
    {
     "data": {
      "text/html": [
       "<div>\n",
       "<table border=\"1\" class=\"dataframe\">\n",
       "  <thead>\n",
       "    <tr style=\"text-align: right;\">\n",
       "      <th></th>\n",
       "      <th>satisfaction_level</th>\n",
       "      <th>last_evaluation_rating</th>\n",
       "      <th>projects_worked_on</th>\n",
       "      <th>average_montly_hours</th>\n",
       "      <th>time_spend_company</th>\n",
       "      <th>Attrition</th>\n",
       "      <th>IT</th>\n",
       "      <th>RandD</th>\n",
       "      <th>accounting</th>\n",
       "      <th>hr</th>\n",
       "      <th>...</th>\n",
       "      <th>sales</th>\n",
       "      <th>support</th>\n",
       "      <th>technical</th>\n",
       "      <th>high</th>\n",
       "      <th>low</th>\n",
       "      <th>medium</th>\n",
       "      <th>0</th>\n",
       "      <th>1</th>\n",
       "      <th>Category_0</th>\n",
       "      <th>Category_1</th>\n",
       "    </tr>\n",
       "  </thead>\n",
       "  <tbody>\n",
       "    <tr>\n",
       "      <th>0</th>\n",
       "      <td>3.8</td>\n",
       "      <td>5.3</td>\n",
       "      <td>3</td>\n",
       "      <td>167</td>\n",
       "      <td>3</td>\n",
       "      <td>1</td>\n",
       "      <td>0.0</td>\n",
       "      <td>0.0</td>\n",
       "      <td>0.0</td>\n",
       "      <td>0.0</td>\n",
       "      <td>...</td>\n",
       "      <td>1.0</td>\n",
       "      <td>0.0</td>\n",
       "      <td>0.0</td>\n",
       "      <td>0.0</td>\n",
       "      <td>1.0</td>\n",
       "      <td>0.0</td>\n",
       "      <td>1.0</td>\n",
       "      <td>0.0</td>\n",
       "      <td>1.0</td>\n",
       "      <td>0.0</td>\n",
       "    </tr>\n",
       "    <tr>\n",
       "      <th>1</th>\n",
       "      <td>8.0</td>\n",
       "      <td>8.6</td>\n",
       "      <td>6</td>\n",
       "      <td>272</td>\n",
       "      <td>6</td>\n",
       "      <td>1</td>\n",
       "      <td>0.0</td>\n",
       "      <td>0.0</td>\n",
       "      <td>0.0</td>\n",
       "      <td>0.0</td>\n",
       "      <td>...</td>\n",
       "      <td>1.0</td>\n",
       "      <td>0.0</td>\n",
       "      <td>0.0</td>\n",
       "      <td>0.0</td>\n",
       "      <td>0.0</td>\n",
       "      <td>1.0</td>\n",
       "      <td>1.0</td>\n",
       "      <td>0.0</td>\n",
       "      <td>1.0</td>\n",
       "      <td>0.0</td>\n",
       "    </tr>\n",
       "    <tr>\n",
       "      <th>2</th>\n",
       "      <td>1.1</td>\n",
       "      <td>8.8</td>\n",
       "      <td>8</td>\n",
       "      <td>282</td>\n",
       "      <td>4</td>\n",
       "      <td>1</td>\n",
       "      <td>0.0</td>\n",
       "      <td>0.0</td>\n",
       "      <td>0.0</td>\n",
       "      <td>0.0</td>\n",
       "      <td>...</td>\n",
       "      <td>1.0</td>\n",
       "      <td>0.0</td>\n",
       "      <td>0.0</td>\n",
       "      <td>0.0</td>\n",
       "      <td>0.0</td>\n",
       "      <td>1.0</td>\n",
       "      <td>1.0</td>\n",
       "      <td>0.0</td>\n",
       "      <td>1.0</td>\n",
       "      <td>0.0</td>\n",
       "    </tr>\n",
       "    <tr>\n",
       "      <th>3</th>\n",
       "      <td>3.7</td>\n",
       "      <td>5.2</td>\n",
       "      <td>3</td>\n",
       "      <td>169</td>\n",
       "      <td>3</td>\n",
       "      <td>1</td>\n",
       "      <td>0.0</td>\n",
       "      <td>0.0</td>\n",
       "      <td>0.0</td>\n",
       "      <td>0.0</td>\n",
       "      <td>...</td>\n",
       "      <td>1.0</td>\n",
       "      <td>0.0</td>\n",
       "      <td>0.0</td>\n",
       "      <td>0.0</td>\n",
       "      <td>1.0</td>\n",
       "      <td>0.0</td>\n",
       "      <td>1.0</td>\n",
       "      <td>0.0</td>\n",
       "      <td>1.0</td>\n",
       "      <td>0.0</td>\n",
       "    </tr>\n",
       "    <tr>\n",
       "      <th>4</th>\n",
       "      <td>4.1</td>\n",
       "      <td>5.0</td>\n",
       "      <td>3</td>\n",
       "      <td>163</td>\n",
       "      <td>3</td>\n",
       "      <td>1</td>\n",
       "      <td>0.0</td>\n",
       "      <td>0.0</td>\n",
       "      <td>0.0</td>\n",
       "      <td>0.0</td>\n",
       "      <td>...</td>\n",
       "      <td>1.0</td>\n",
       "      <td>0.0</td>\n",
       "      <td>0.0</td>\n",
       "      <td>0.0</td>\n",
       "      <td>1.0</td>\n",
       "      <td>0.0</td>\n",
       "      <td>1.0</td>\n",
       "      <td>0.0</td>\n",
       "      <td>1.0</td>\n",
       "      <td>0.0</td>\n",
       "    </tr>\n",
       "  </tbody>\n",
       "</table>\n",
       "<p>5 rows × 23 columns</p>\n",
       "</div>"
      ],
      "text/plain": [
       "   satisfaction_level  last_evaluation_rating  projects_worked_on  \\\n",
       "0                 3.8                     5.3                   3   \n",
       "1                 8.0                     8.6                   6   \n",
       "2                 1.1                     8.8                   8   \n",
       "3                 3.7                     5.2                   3   \n",
       "4                 4.1                     5.0                   3   \n",
       "\n",
       "   average_montly_hours  time_spend_company  Attrition   IT  RandD  \\\n",
       "0                   167                   3          1  0.0    0.0   \n",
       "1                   272                   6          1  0.0    0.0   \n",
       "2                   282                   4          1  0.0    0.0   \n",
       "3                   169                   3          1  0.0    0.0   \n",
       "4                   163                   3          1  0.0    0.0   \n",
       "\n",
       "   accounting   hr     ...      sales  support  technical  high  low  medium  \\\n",
       "0         0.0  0.0     ...        1.0      0.0        0.0   0.0  1.0     0.0   \n",
       "1         0.0  0.0     ...        1.0      0.0        0.0   0.0  0.0     1.0   \n",
       "2         0.0  0.0     ...        1.0      0.0        0.0   0.0  0.0     1.0   \n",
       "3         0.0  0.0     ...        1.0      0.0        0.0   0.0  1.0     0.0   \n",
       "4         0.0  0.0     ...        1.0      0.0        0.0   0.0  1.0     0.0   \n",
       "\n",
       "     0    1  Category_0  Category_1  \n",
       "0  1.0  0.0         1.0         0.0  \n",
       "1  1.0  0.0         1.0         0.0  \n",
       "2  1.0  0.0         1.0         0.0  \n",
       "3  1.0  0.0         1.0         0.0  \n",
       "4  1.0  0.0         1.0         0.0  \n",
       "\n",
       "[5 rows x 23 columns]"
      ]
     },
     "execution_count": 51,
     "metadata": {},
     "output_type": "execute_result"
    }
   ],
   "source": [
    "df.head()"
   ]
  },
  {
   "cell_type": "code",
   "execution_count": 52,
   "metadata": {
    "collapsed": true
   },
   "outputs": [],
   "source": [
    "#time_spend_company--DOnt do\n",
    "\n",
    "#work_dummies  = pd.get_dummies(df['time_spend_company']).rename(columns=lambda x: 'time_spend_company_' + str(x))\n",
    "#df = df.join(work_dummies)\n",
    "#df.drop(['time_spend_company'], axis=1,inplace=True)\n",
    "\n",
    "#work_dummies   = pd.get_dummies(df_test['time_spend_company']).rename(columns=lambda x: 'time_spend_company_' + str(x))\n",
    "#df_test = df_test.join(work_dummies)\n",
    "#df_test.drop(['time_spend_company'], axis=1,inplace=True)"
   ]
  },
  {
   "cell_type": "code",
   "execution_count": 53,
   "metadata": {
    "collapsed": false
   },
   "outputs": [
    {
     "data": {
      "text/html": [
       "<div>\n",
       "<table border=\"1\" class=\"dataframe\">\n",
       "  <thead>\n",
       "    <tr style=\"text-align: right;\">\n",
       "      <th></th>\n",
       "      <th>satisfaction_level</th>\n",
       "      <th>last_evaluation_rating</th>\n",
       "      <th>projects_worked_on</th>\n",
       "      <th>average_montly_hours</th>\n",
       "      <th>time_spend_company</th>\n",
       "      <th>Attrition</th>\n",
       "      <th>IT</th>\n",
       "      <th>RandD</th>\n",
       "      <th>accounting</th>\n",
       "      <th>hr</th>\n",
       "      <th>...</th>\n",
       "      <th>sales</th>\n",
       "      <th>support</th>\n",
       "      <th>technical</th>\n",
       "      <th>high</th>\n",
       "      <th>low</th>\n",
       "      <th>medium</th>\n",
       "      <th>0</th>\n",
       "      <th>1</th>\n",
       "      <th>Category_0</th>\n",
       "      <th>Category_1</th>\n",
       "    </tr>\n",
       "  </thead>\n",
       "  <tbody>\n",
       "    <tr>\n",
       "      <th>0</th>\n",
       "      <td>3.8</td>\n",
       "      <td>5.3</td>\n",
       "      <td>3</td>\n",
       "      <td>167</td>\n",
       "      <td>3</td>\n",
       "      <td>1</td>\n",
       "      <td>0.0</td>\n",
       "      <td>0.0</td>\n",
       "      <td>0.0</td>\n",
       "      <td>0.0</td>\n",
       "      <td>...</td>\n",
       "      <td>1.0</td>\n",
       "      <td>0.0</td>\n",
       "      <td>0.0</td>\n",
       "      <td>0.0</td>\n",
       "      <td>1.0</td>\n",
       "      <td>0.0</td>\n",
       "      <td>1.0</td>\n",
       "      <td>0.0</td>\n",
       "      <td>1.0</td>\n",
       "      <td>0.0</td>\n",
       "    </tr>\n",
       "    <tr>\n",
       "      <th>1</th>\n",
       "      <td>8.0</td>\n",
       "      <td>8.6</td>\n",
       "      <td>6</td>\n",
       "      <td>272</td>\n",
       "      <td>6</td>\n",
       "      <td>1</td>\n",
       "      <td>0.0</td>\n",
       "      <td>0.0</td>\n",
       "      <td>0.0</td>\n",
       "      <td>0.0</td>\n",
       "      <td>...</td>\n",
       "      <td>1.0</td>\n",
       "      <td>0.0</td>\n",
       "      <td>0.0</td>\n",
       "      <td>0.0</td>\n",
       "      <td>0.0</td>\n",
       "      <td>1.0</td>\n",
       "      <td>1.0</td>\n",
       "      <td>0.0</td>\n",
       "      <td>1.0</td>\n",
       "      <td>0.0</td>\n",
       "    </tr>\n",
       "    <tr>\n",
       "      <th>2</th>\n",
       "      <td>1.1</td>\n",
       "      <td>8.8</td>\n",
       "      <td>8</td>\n",
       "      <td>282</td>\n",
       "      <td>4</td>\n",
       "      <td>1</td>\n",
       "      <td>0.0</td>\n",
       "      <td>0.0</td>\n",
       "      <td>0.0</td>\n",
       "      <td>0.0</td>\n",
       "      <td>...</td>\n",
       "      <td>1.0</td>\n",
       "      <td>0.0</td>\n",
       "      <td>0.0</td>\n",
       "      <td>0.0</td>\n",
       "      <td>0.0</td>\n",
       "      <td>1.0</td>\n",
       "      <td>1.0</td>\n",
       "      <td>0.0</td>\n",
       "      <td>1.0</td>\n",
       "      <td>0.0</td>\n",
       "    </tr>\n",
       "    <tr>\n",
       "      <th>3</th>\n",
       "      <td>3.7</td>\n",
       "      <td>5.2</td>\n",
       "      <td>3</td>\n",
       "      <td>169</td>\n",
       "      <td>3</td>\n",
       "      <td>1</td>\n",
       "      <td>0.0</td>\n",
       "      <td>0.0</td>\n",
       "      <td>0.0</td>\n",
       "      <td>0.0</td>\n",
       "      <td>...</td>\n",
       "      <td>1.0</td>\n",
       "      <td>0.0</td>\n",
       "      <td>0.0</td>\n",
       "      <td>0.0</td>\n",
       "      <td>1.0</td>\n",
       "      <td>0.0</td>\n",
       "      <td>1.0</td>\n",
       "      <td>0.0</td>\n",
       "      <td>1.0</td>\n",
       "      <td>0.0</td>\n",
       "    </tr>\n",
       "    <tr>\n",
       "      <th>4</th>\n",
       "      <td>4.1</td>\n",
       "      <td>5.0</td>\n",
       "      <td>3</td>\n",
       "      <td>163</td>\n",
       "      <td>3</td>\n",
       "      <td>1</td>\n",
       "      <td>0.0</td>\n",
       "      <td>0.0</td>\n",
       "      <td>0.0</td>\n",
       "      <td>0.0</td>\n",
       "      <td>...</td>\n",
       "      <td>1.0</td>\n",
       "      <td>0.0</td>\n",
       "      <td>0.0</td>\n",
       "      <td>0.0</td>\n",
       "      <td>1.0</td>\n",
       "      <td>0.0</td>\n",
       "      <td>1.0</td>\n",
       "      <td>0.0</td>\n",
       "      <td>1.0</td>\n",
       "      <td>0.0</td>\n",
       "    </tr>\n",
       "  </tbody>\n",
       "</table>\n",
       "<p>5 rows × 23 columns</p>\n",
       "</div>"
      ],
      "text/plain": [
       "   satisfaction_level  last_evaluation_rating  projects_worked_on  \\\n",
       "0                 3.8                     5.3                   3   \n",
       "1                 8.0                     8.6                   6   \n",
       "2                 1.1                     8.8                   8   \n",
       "3                 3.7                     5.2                   3   \n",
       "4                 4.1                     5.0                   3   \n",
       "\n",
       "   average_montly_hours  time_spend_company  Attrition   IT  RandD  \\\n",
       "0                   167                   3          1  0.0    0.0   \n",
       "1                   272                   6          1  0.0    0.0   \n",
       "2                   282                   4          1  0.0    0.0   \n",
       "3                   169                   3          1  0.0    0.0   \n",
       "4                   163                   3          1  0.0    0.0   \n",
       "\n",
       "   accounting   hr     ...      sales  support  technical  high  low  medium  \\\n",
       "0         0.0  0.0     ...        1.0      0.0        0.0   0.0  1.0     0.0   \n",
       "1         0.0  0.0     ...        1.0      0.0        0.0   0.0  0.0     1.0   \n",
       "2         0.0  0.0     ...        1.0      0.0        0.0   0.0  0.0     1.0   \n",
       "3         0.0  0.0     ...        1.0      0.0        0.0   0.0  1.0     0.0   \n",
       "4         0.0  0.0     ...        1.0      0.0        0.0   0.0  1.0     0.0   \n",
       "\n",
       "     0    1  Category_0  Category_1  \n",
       "0  1.0  0.0         1.0         0.0  \n",
       "1  1.0  0.0         1.0         0.0  \n",
       "2  1.0  0.0         1.0         0.0  \n",
       "3  1.0  0.0         1.0         0.0  \n",
       "4  1.0  0.0         1.0         0.0  \n",
       "\n",
       "[5 rows x 23 columns]"
      ]
     },
     "execution_count": 53,
     "metadata": {},
     "output_type": "execute_result"
    }
   ],
   "source": [
    "df.head()"
   ]
  },
  {
   "cell_type": "code",
   "execution_count": 54,
   "metadata": {
    "collapsed": true
   },
   "outputs": [],
   "source": [
    "#projects_worked_on--dont do\n",
    "\n",
    "#project_dummies  = pd.get_dummies(df['projects_worked_on']).rename(columns=lambda x: 'projects_worked_on_' + str(x))\n",
    "#df = df.join(project_dummies)\n",
    "#df.drop(['projects_worked_on'], axis=1,inplace=True)\n",
    "\n",
    "#project_dummies   = pd.get_dummies(df_test['projects_worked_on']).rename(columns=lambda x: 'projects_worked_on_' + str(x))\n",
    "#df_test = df_test.join(project_dummies)\n",
    "#df_test.drop(['projects_worked_on'], axis=1,inplace=True)"
   ]
  },
  {
   "cell_type": "code",
   "execution_count": 55,
   "metadata": {
    "collapsed": false
   },
   "outputs": [
    {
     "data": {
      "text/html": [
       "<div>\n",
       "<table border=\"1\" class=\"dataframe\">\n",
       "  <thead>\n",
       "    <tr style=\"text-align: right;\">\n",
       "      <th></th>\n",
       "      <th>satisfaction_level</th>\n",
       "      <th>last_evaluation_rating</th>\n",
       "      <th>projects_worked_on</th>\n",
       "      <th>average_montly_hours</th>\n",
       "      <th>time_spend_company</th>\n",
       "      <th>Attrition</th>\n",
       "      <th>IT</th>\n",
       "      <th>RandD</th>\n",
       "      <th>accounting</th>\n",
       "      <th>hr</th>\n",
       "      <th>...</th>\n",
       "      <th>sales</th>\n",
       "      <th>support</th>\n",
       "      <th>technical</th>\n",
       "      <th>high</th>\n",
       "      <th>low</th>\n",
       "      <th>medium</th>\n",
       "      <th>0</th>\n",
       "      <th>1</th>\n",
       "      <th>Category_0</th>\n",
       "      <th>Category_1</th>\n",
       "    </tr>\n",
       "  </thead>\n",
       "  <tbody>\n",
       "    <tr>\n",
       "      <th>0</th>\n",
       "      <td>3.8</td>\n",
       "      <td>5.3</td>\n",
       "      <td>3</td>\n",
       "      <td>167</td>\n",
       "      <td>3</td>\n",
       "      <td>1</td>\n",
       "      <td>0.0</td>\n",
       "      <td>0.0</td>\n",
       "      <td>0.0</td>\n",
       "      <td>0.0</td>\n",
       "      <td>...</td>\n",
       "      <td>1.0</td>\n",
       "      <td>0.0</td>\n",
       "      <td>0.0</td>\n",
       "      <td>0.0</td>\n",
       "      <td>1.0</td>\n",
       "      <td>0.0</td>\n",
       "      <td>1.0</td>\n",
       "      <td>0.0</td>\n",
       "      <td>1.0</td>\n",
       "      <td>0.0</td>\n",
       "    </tr>\n",
       "    <tr>\n",
       "      <th>1</th>\n",
       "      <td>8.0</td>\n",
       "      <td>8.6</td>\n",
       "      <td>6</td>\n",
       "      <td>272</td>\n",
       "      <td>6</td>\n",
       "      <td>1</td>\n",
       "      <td>0.0</td>\n",
       "      <td>0.0</td>\n",
       "      <td>0.0</td>\n",
       "      <td>0.0</td>\n",
       "      <td>...</td>\n",
       "      <td>1.0</td>\n",
       "      <td>0.0</td>\n",
       "      <td>0.0</td>\n",
       "      <td>0.0</td>\n",
       "      <td>0.0</td>\n",
       "      <td>1.0</td>\n",
       "      <td>1.0</td>\n",
       "      <td>0.0</td>\n",
       "      <td>1.0</td>\n",
       "      <td>0.0</td>\n",
       "    </tr>\n",
       "    <tr>\n",
       "      <th>2</th>\n",
       "      <td>1.1</td>\n",
       "      <td>8.8</td>\n",
       "      <td>8</td>\n",
       "      <td>282</td>\n",
       "      <td>4</td>\n",
       "      <td>1</td>\n",
       "      <td>0.0</td>\n",
       "      <td>0.0</td>\n",
       "      <td>0.0</td>\n",
       "      <td>0.0</td>\n",
       "      <td>...</td>\n",
       "      <td>1.0</td>\n",
       "      <td>0.0</td>\n",
       "      <td>0.0</td>\n",
       "      <td>0.0</td>\n",
       "      <td>0.0</td>\n",
       "      <td>1.0</td>\n",
       "      <td>1.0</td>\n",
       "      <td>0.0</td>\n",
       "      <td>1.0</td>\n",
       "      <td>0.0</td>\n",
       "    </tr>\n",
       "    <tr>\n",
       "      <th>3</th>\n",
       "      <td>3.7</td>\n",
       "      <td>5.2</td>\n",
       "      <td>3</td>\n",
       "      <td>169</td>\n",
       "      <td>3</td>\n",
       "      <td>1</td>\n",
       "      <td>0.0</td>\n",
       "      <td>0.0</td>\n",
       "      <td>0.0</td>\n",
       "      <td>0.0</td>\n",
       "      <td>...</td>\n",
       "      <td>1.0</td>\n",
       "      <td>0.0</td>\n",
       "      <td>0.0</td>\n",
       "      <td>0.0</td>\n",
       "      <td>1.0</td>\n",
       "      <td>0.0</td>\n",
       "      <td>1.0</td>\n",
       "      <td>0.0</td>\n",
       "      <td>1.0</td>\n",
       "      <td>0.0</td>\n",
       "    </tr>\n",
       "    <tr>\n",
       "      <th>4</th>\n",
       "      <td>4.1</td>\n",
       "      <td>5.0</td>\n",
       "      <td>3</td>\n",
       "      <td>163</td>\n",
       "      <td>3</td>\n",
       "      <td>1</td>\n",
       "      <td>0.0</td>\n",
       "      <td>0.0</td>\n",
       "      <td>0.0</td>\n",
       "      <td>0.0</td>\n",
       "      <td>...</td>\n",
       "      <td>1.0</td>\n",
       "      <td>0.0</td>\n",
       "      <td>0.0</td>\n",
       "      <td>0.0</td>\n",
       "      <td>1.0</td>\n",
       "      <td>0.0</td>\n",
       "      <td>1.0</td>\n",
       "      <td>0.0</td>\n",
       "      <td>1.0</td>\n",
       "      <td>0.0</td>\n",
       "    </tr>\n",
       "  </tbody>\n",
       "</table>\n",
       "<p>5 rows × 23 columns</p>\n",
       "</div>"
      ],
      "text/plain": [
       "   satisfaction_level  last_evaluation_rating  projects_worked_on  \\\n",
       "0                 3.8                     5.3                   3   \n",
       "1                 8.0                     8.6                   6   \n",
       "2                 1.1                     8.8                   8   \n",
       "3                 3.7                     5.2                   3   \n",
       "4                 4.1                     5.0                   3   \n",
       "\n",
       "   average_montly_hours  time_spend_company  Attrition   IT  RandD  \\\n",
       "0                   167                   3          1  0.0    0.0   \n",
       "1                   272                   6          1  0.0    0.0   \n",
       "2                   282                   4          1  0.0    0.0   \n",
       "3                   169                   3          1  0.0    0.0   \n",
       "4                   163                   3          1  0.0    0.0   \n",
       "\n",
       "   accounting   hr     ...      sales  support  technical  high  low  medium  \\\n",
       "0         0.0  0.0     ...        1.0      0.0        0.0   0.0  1.0     0.0   \n",
       "1         0.0  0.0     ...        1.0      0.0        0.0   0.0  0.0     1.0   \n",
       "2         0.0  0.0     ...        1.0      0.0        0.0   0.0  0.0     1.0   \n",
       "3         0.0  0.0     ...        1.0      0.0        0.0   0.0  1.0     0.0   \n",
       "4         0.0  0.0     ...        1.0      0.0        0.0   0.0  1.0     0.0   \n",
       "\n",
       "     0    1  Category_0  Category_1  \n",
       "0  1.0  0.0         1.0         0.0  \n",
       "1  1.0  0.0         1.0         0.0  \n",
       "2  1.0  0.0         1.0         0.0  \n",
       "3  1.0  0.0         1.0         0.0  \n",
       "4  1.0  0.0         1.0         0.0  \n",
       "\n",
       "[5 rows x 23 columns]"
      ]
     },
     "execution_count": 55,
     "metadata": {},
     "output_type": "execute_result"
    }
   ],
   "source": [
    "df.head()"
   ]
  },
  {
   "cell_type": "code",
   "execution_count": 56,
   "metadata": {
    "collapsed": true
   },
   "outputs": [],
   "source": [
    "from sklearn.preprocessing import MinMaxScaler\n",
    "min_max=MinMaxScaler()\n",
    "df_minmax=min_max.fit_transform(df[['satisfaction_level', 'last_evaluation_rating',\n",
    "                'average_montly_hours']])\n",
    "df_test_minmax=min_max.fit_transform(df_test[['satisfaction_level', 'last_evaluation_rating',\n",
    "                'average_montly_hours']])"
   ]
  },
  {
   "cell_type": "code",
   "execution_count": 82,
   "metadata": {
    "collapsed": false
   },
   "outputs": [
    {
     "data": {
      "text/html": [
       "<div>\n",
       "<table border=\"1\" class=\"dataframe\">\n",
       "  <thead>\n",
       "    <tr style=\"text-align: right;\">\n",
       "      <th></th>\n",
       "      <th>satisfaction_level</th>\n",
       "      <th>last_evaluation_rating</th>\n",
       "      <th>projects_worked_on</th>\n",
       "      <th>average_montly_hours</th>\n",
       "      <th>time_spend_company</th>\n",
       "      <th>IT</th>\n",
       "      <th>RandD</th>\n",
       "      <th>accounting</th>\n",
       "      <th>hr</th>\n",
       "      <th>management</th>\n",
       "      <th>...</th>\n",
       "      <th>sales</th>\n",
       "      <th>support</th>\n",
       "      <th>technical</th>\n",
       "      <th>high</th>\n",
       "      <th>low</th>\n",
       "      <th>medium</th>\n",
       "      <th>0</th>\n",
       "      <th>1</th>\n",
       "      <th>Category_0</th>\n",
       "      <th>Category_1</th>\n",
       "    </tr>\n",
       "  </thead>\n",
       "  <tbody>\n",
       "    <tr>\n",
       "      <th>0</th>\n",
       "      <td>7.2</td>\n",
       "      <td>8.7</td>\n",
       "      <td>6</td>\n",
       "      <td>233</td>\n",
       "      <td>5</td>\n",
       "      <td>0.0</td>\n",
       "      <td>0.0</td>\n",
       "      <td>0.0</td>\n",
       "      <td>0.0</td>\n",
       "      <td>0.0</td>\n",
       "      <td>...</td>\n",
       "      <td>1.0</td>\n",
       "      <td>0.0</td>\n",
       "      <td>0.0</td>\n",
       "      <td>0.0</td>\n",
       "      <td>1.0</td>\n",
       "      <td>0.0</td>\n",
       "      <td>1.0</td>\n",
       "      <td>0.0</td>\n",
       "      <td>1.0</td>\n",
       "      <td>0.0</td>\n",
       "    </tr>\n",
       "    <tr>\n",
       "      <th>1</th>\n",
       "      <td>4.5</td>\n",
       "      <td>5.4</td>\n",
       "      <td>3</td>\n",
       "      <td>145</td>\n",
       "      <td>3</td>\n",
       "      <td>0.0</td>\n",
       "      <td>0.0</td>\n",
       "      <td>0.0</td>\n",
       "      <td>0.0</td>\n",
       "      <td>0.0</td>\n",
       "      <td>...</td>\n",
       "      <td>1.0</td>\n",
       "      <td>0.0</td>\n",
       "      <td>0.0</td>\n",
       "      <td>0.0</td>\n",
       "      <td>1.0</td>\n",
       "      <td>0.0</td>\n",
       "      <td>1.0</td>\n",
       "      <td>0.0</td>\n",
       "      <td>1.0</td>\n",
       "      <td>0.0</td>\n",
       "    </tr>\n",
       "    <tr>\n",
       "      <th>2</th>\n",
       "      <td>4.1</td>\n",
       "      <td>5.5</td>\n",
       "      <td>3</td>\n",
       "      <td>158</td>\n",
       "      <td>3</td>\n",
       "      <td>0.0</td>\n",
       "      <td>0.0</td>\n",
       "      <td>0.0</td>\n",
       "      <td>0.0</td>\n",
       "      <td>0.0</td>\n",
       "      <td>...</td>\n",
       "      <td>1.0</td>\n",
       "      <td>0.0</td>\n",
       "      <td>0.0</td>\n",
       "      <td>0.0</td>\n",
       "      <td>1.0</td>\n",
       "      <td>0.0</td>\n",
       "      <td>1.0</td>\n",
       "      <td>0.0</td>\n",
       "      <td>1.0</td>\n",
       "      <td>0.0</td>\n",
       "    </tr>\n",
       "    <tr>\n",
       "      <th>3</th>\n",
       "      <td>3.6</td>\n",
       "      <td>5.6</td>\n",
       "      <td>3</td>\n",
       "      <td>147</td>\n",
       "      <td>3</td>\n",
       "      <td>0.0</td>\n",
       "      <td>0.0</td>\n",
       "      <td>0.0</td>\n",
       "      <td>0.0</td>\n",
       "      <td>0.0</td>\n",
       "      <td>...</td>\n",
       "      <td>1.0</td>\n",
       "      <td>0.0</td>\n",
       "      <td>0.0</td>\n",
       "      <td>0.0</td>\n",
       "      <td>1.0</td>\n",
       "      <td>0.0</td>\n",
       "      <td>1.0</td>\n",
       "      <td>0.0</td>\n",
       "      <td>1.0</td>\n",
       "      <td>0.0</td>\n",
       "    </tr>\n",
       "    <tr>\n",
       "      <th>4</th>\n",
       "      <td>4.5</td>\n",
       "      <td>4.7</td>\n",
       "      <td>3</td>\n",
       "      <td>170</td>\n",
       "      <td>3</td>\n",
       "      <td>0.0</td>\n",
       "      <td>0.0</td>\n",
       "      <td>0.0</td>\n",
       "      <td>0.0</td>\n",
       "      <td>0.0</td>\n",
       "      <td>...</td>\n",
       "      <td>1.0</td>\n",
       "      <td>0.0</td>\n",
       "      <td>0.0</td>\n",
       "      <td>0.0</td>\n",
       "      <td>1.0</td>\n",
       "      <td>0.0</td>\n",
       "      <td>1.0</td>\n",
       "      <td>0.0</td>\n",
       "      <td>1.0</td>\n",
       "      <td>0.0</td>\n",
       "    </tr>\n",
       "  </tbody>\n",
       "</table>\n",
       "<p>5 rows × 22 columns</p>\n",
       "</div>"
      ],
      "text/plain": [
       "   satisfaction_level  last_evaluation_rating  projects_worked_on  \\\n",
       "0                 7.2                     8.7                   6   \n",
       "1                 4.5                     5.4                   3   \n",
       "2                 4.1                     5.5                   3   \n",
       "3                 3.6                     5.6                   3   \n",
       "4                 4.5                     4.7                   3   \n",
       "\n",
       "   average_montly_hours  time_spend_company   IT  RandD  accounting   hr  \\\n",
       "0                   233                   5  0.0    0.0         0.0  0.0   \n",
       "1                   145                   3  0.0    0.0         0.0  0.0   \n",
       "2                   158                   3  0.0    0.0         0.0  0.0   \n",
       "3                   147                   3  0.0    0.0         0.0  0.0   \n",
       "4                   170                   3  0.0    0.0         0.0  0.0   \n",
       "\n",
       "   management     ...      sales  support  technical  high  low  medium    0  \\\n",
       "0         0.0     ...        1.0      0.0        0.0   0.0  1.0     0.0  1.0   \n",
       "1         0.0     ...        1.0      0.0        0.0   0.0  1.0     0.0  1.0   \n",
       "2         0.0     ...        1.0      0.0        0.0   0.0  1.0     0.0  1.0   \n",
       "3         0.0     ...        1.0      0.0        0.0   0.0  1.0     0.0  1.0   \n",
       "4         0.0     ...        1.0      0.0        0.0   0.0  1.0     0.0  1.0   \n",
       "\n",
       "     1  Category_0  Category_1  \n",
       "0  0.0         1.0         0.0  \n",
       "1  0.0         1.0         0.0  \n",
       "2  0.0         1.0         0.0  \n",
       "3  0.0         1.0         0.0  \n",
       "4  0.0         1.0         0.0  \n",
       "\n",
       "[5 rows x 22 columns]"
      ]
     },
     "execution_count": 82,
     "metadata": {},
     "output_type": "execute_result"
    }
   ],
   "source": [
    "X_train=df.drop('Attrition', axis=1)\n",
    "y_train=df['Attrition']\n",
    "\n",
    "X_test=df_test.drop('Attrition', axis=1)\n",
    "y_test=df_test['Attrition']\n",
    "X_test.drop(['ID'], axis=1,inplace=True)\n",
    "X_test.head()"
   ]
  },
  {
   "cell_type": "code",
   "execution_count": 58,
   "metadata": {
    "collapsed": true
   },
   "outputs": [],
   "source": [
    "from sklearn.preprocessing import scale\n",
    "df_scale=scale(X_train)\n",
    "df_test_scale=scale(X_test)"
   ]
  },
  {
   "cell_type": "code",
   "execution_count": 59,
   "metadata": {
    "collapsed": false
   },
   "outputs": [
    {
     "data": {
      "text/plain": [
       "Index([    'satisfaction_level', 'last_evaluation_rating',\n",
       "           'projects_worked_on',   'average_montly_hours',\n",
       "           'time_spend_company',                     'IT',\n",
       "                        'RandD',             'accounting',\n",
       "                           'hr',             'management',\n",
       "                    'marketing',            'product_mng',\n",
       "                        'sales',                'support',\n",
       "                    'technical',                   'high',\n",
       "                          'low',                 'medium',\n",
       "                              0,                        1,\n",
       "                   'Category_0',             'Category_1'],\n",
       "      dtype='object')"
      ]
     },
     "execution_count": 59,
     "metadata": {},
     "output_type": "execute_result"
    }
   ],
   "source": [
    "X_train.head()\n",
    "#X_test.shape\n",
    "X_train.columns"
   ]
  },
  {
   "cell_type": "code",
   "execution_count": 60,
   "metadata": {
    "collapsed": false
   },
   "outputs": [
    {
     "name": "stdout",
     "output_type": "stream",
     "text": [
      "Accuracy of logistic regression classifier on test set: 0.76\n"
     ]
    }
   ],
   "source": [
    "# machine learning\n",
    "from sklearn.linear_model import LogisticRegression\n",
    "from sklearn.svm import SVC, LinearSVC\n",
    "from sklearn.ensemble import RandomForestClassifier\n",
    "from sklearn.neighbors import KNeighborsClassifier\n",
    "from sklearn.naive_bayes import GaussianNB\n",
    "\n",
    "##Logistic Regression\n",
    "\n",
    "logreg = LogisticRegression()\n",
    "logreg.fit(X_train, y_train)\n",
    "Y_pred = logreg.predict(X_test)\n",
    "logreg.score(X_train, y_train)\n",
    "## Logistics Regression without Scaling --78.75% Training Accuracy\n",
    "print('Accuracy of logistic regression classifier on test set: {:.2f}'.format(logreg.score(X_test, y_test)))"
   ]
  },
  {
   "cell_type": "code",
   "execution_count": 61,
   "metadata": {
    "collapsed": false
   },
   "outputs": [
    {
     "name": "stdout",
     "output_type": "stream",
     "text": [
      "Accuracy of logistic regression classifier on test set: 0.77\n"
     ]
    }
   ],
   "source": [
    "#Accuracy slightly improved with Scaling\n",
    "logreg = LogisticRegression()\n",
    "logreg.fit(df_scale, y_train)\n",
    "Y_pred = logreg.predict(X_test)\n",
    "#logreg.score(df_scale, y_train)\n",
    "## Logistics Regression without Scaling --78.75% Training Accuracy\n",
    "print('Accuracy of logistic regression classifier on test set: {:.2f}'.format(logreg.score(df_test_scale, y_test)))"
   ]
  },
  {
   "cell_type": "code",
   "execution_count": 62,
   "metadata": {
    "collapsed": false
   },
   "outputs": [
    {
     "name": "stdout",
     "output_type": "stream",
     "text": [
      "Accuracy of SVC classifier on test set: 0.95\n"
     ]
    }
   ],
   "source": [
    "# Support Vector Machines\n",
    "svc = SVC()\n",
    "svc.fit(df_scale, y_train)\n",
    "Y_pred = svc.predict(X_test)\n",
    "print('Accuracy of SVC classifier on test set: {:.2f}'.format(svc.score(df_test_scale, y_test)))\n",
    "\n",
    "## Accuracy 95%"
   ]
  },
  {
   "cell_type": "code",
   "execution_count": 63,
   "metadata": {
    "collapsed": false
   },
   "outputs": [
    {
     "name": "stdout",
     "output_type": "stream",
     "text": [
      "Accuracy of random_forest on test set: 0.97\n"
     ]
    }
   ],
   "source": [
    "# Random Forests\n",
    "\n",
    "random_forest = RandomForestClassifier(n_estimators=100)\n",
    "random_forest.fit(df_scale, y_train)\n",
    "Y_pred = random_forest.predict(X_test)\n",
    "print('Accuracy of random_forest on test set: {:.2f}'.format(random_forest.score(df_test_scale, y_test)))\n",
    "\n",
    "## Accuracy 97%"
   ]
  },
  {
   "cell_type": "code",
   "execution_count": 64,
   "metadata": {
    "collapsed": false
   },
   "outputs": [
    {
     "name": "stdout",
     "output_type": "stream",
     "text": [
      "Accuracy of KNN on test set: 0.98\n"
     ]
    }
   ],
   "source": [
    "##KNN Classifier\n",
    "knn = KNeighborsClassifier(n_neighbors = 3)\n",
    "knn.fit(df_scale, y_train)\n",
    "Y_pred = knn.predict(X_test)\n",
    "print('Accuracy of KNN on test set: {:.2f}'.format(knn.score(df_test_scale, y_test)))\n",
    "\n",
    "##Accuracy 98%"
   ]
  },
  {
   "cell_type": "code",
   "execution_count": 65,
   "metadata": {
    "collapsed": false
   },
   "outputs": [
    {
     "ename": "ImportError",
     "evalue": "No module named 'sklearn.model_selection'",
     "output_type": "error",
     "traceback": [
      "\u001b[0;31m---------------------------------------------------------------------------\u001b[0m",
      "\u001b[0;31mImportError\u001b[0m                               Traceback (most recent call last)",
      "\u001b[0;32m<ipython-input-65-a525c602ba53>\u001b[0m in \u001b[0;36m<module>\u001b[0;34m()\u001b[0m\n\u001b[1;32m      1\u001b[0m \u001b[1;31m##Grid Search on Randon forests\u001b[0m\u001b[1;33m\u001b[0m\u001b[1;33m\u001b[0m\u001b[0m\n\u001b[0;32m----> 2\u001b[0;31m \u001b[1;32mfrom\u001b[0m \u001b[0msklearn\u001b[0m\u001b[1;33m.\u001b[0m\u001b[0mmodel_selection\u001b[0m\u001b[1;33m.\u001b[0m\u001b[0mGridSearchCV\u001b[0m \u001b[1;32mimport\u001b[0m \u001b[0mGridSearchCV\u001b[0m\u001b[1;33m\u001b[0m\u001b[0m\n\u001b[0m\u001b[1;32m      3\u001b[0m \u001b[1;33m\u001b[0m\u001b[0m\n\u001b[1;32m      4\u001b[0m \u001b[0mparam_grid\u001b[0m \u001b[1;33m=\u001b[0m \u001b[1;33m{\u001b[0m\u001b[1;34m'n_estimators'\u001b[0m\u001b[1;33m:\u001b[0m \u001b[0mnp\u001b[0m\u001b[1;33m.\u001b[0m\u001b[0marange\u001b[0m\u001b[1;33m(\u001b[0m\u001b[1;36m50\u001b[0m\u001b[1;33m,\u001b[0m \u001b[1;36m150\u001b[0m\u001b[1;33m)\u001b[0m\u001b[1;33m}\u001b[0m\u001b[1;33m\u001b[0m\u001b[0m\n\u001b[1;32m      5\u001b[0m \u001b[1;33m\u001b[0m\u001b[0m\n",
      "\u001b[0;31mImportError\u001b[0m: No module named 'sklearn.model_selection'"
     ]
    }
   ],
   "source": [
    "##Grid Search on Randon forests\n",
    "from sklearn.model_selection.GridSearchCV import GridSearchCV\n",
    "\n",
    "param_grid = {'n_estimators': np.arange(50, 150)}\n",
    "\n",
    "tree = GridSearchCV(RandomForestClassifier(), param_grid)\n",
    "tree.fit(df_scale, y_train)\n",
    "Y_pred = tree.predict(X_test)[:,1]\n",
    "print('Accuracy of random_forest on test set: {:.2f}'.format(roc_auc_score(df_test_scale, Y_pred)))"
   ]
  },
  {
   "cell_type": "code",
   "execution_count": 66,
   "metadata": {
    "collapsed": false
   },
   "outputs": [
    {
     "name": "stdout",
     "output_type": "stream",
     "text": [
      "Accuracy of Gaussian Naive Bayes on test set: 0.50\n"
     ]
    }
   ],
   "source": [
    "# Gaussian Naive Bayes\n",
    "gaussian = GaussianNB()\n",
    "gaussian.fit(df_scale, y_train)\n",
    "Y_pred = gaussian.predict(X_test)\n",
    "print('Accuracy of Gaussian Naive Bayes on test set: {:.2f}'.format(gaussian.score(df_test_scale, y_test)))\n",
    "\n",
    "##Accuracy 50%"
   ]
  },
  {
   "cell_type": "code",
   "execution_count": 67,
   "metadata": {
    "collapsed": false
   },
   "outputs": [
    {
     "data": {
      "text/html": [
       "<div>\n",
       "<table border=\"1\" class=\"dataframe\">\n",
       "  <thead>\n",
       "    <tr style=\"text-align: right;\">\n",
       "      <th></th>\n",
       "      <th>Features</th>\n",
       "      <th>Coefficient Estimate</th>\n",
       "    </tr>\n",
       "  </thead>\n",
       "  <tbody>\n",
       "    <tr>\n",
       "      <th>0</th>\n",
       "      <td>satisfaction_level</td>\n",
       "      <td>-1.004650</td>\n",
       "    </tr>\n",
       "    <tr>\n",
       "      <th>1</th>\n",
       "      <td>last_evaluation_rating</td>\n",
       "      <td>0.098953</td>\n",
       "    </tr>\n",
       "    <tr>\n",
       "      <th>2</th>\n",
       "      <td>projects_worked_on</td>\n",
       "      <td>-0.363422</td>\n",
       "    </tr>\n",
       "    <tr>\n",
       "      <th>3</th>\n",
       "      <td>average_montly_hours</td>\n",
       "      <td>0.228856</td>\n",
       "    </tr>\n",
       "    <tr>\n",
       "      <th>4</th>\n",
       "      <td>time_spend_company</td>\n",
       "      <td>0.387583</td>\n",
       "    </tr>\n",
       "    <tr>\n",
       "      <th>5</th>\n",
       "      <td>Attrition</td>\n",
       "      <td>-0.028490</td>\n",
       "    </tr>\n",
       "    <tr>\n",
       "      <th>6</th>\n",
       "      <td>IT</td>\n",
       "      <td>-0.114764</td>\n",
       "    </tr>\n",
       "    <tr>\n",
       "      <th>7</th>\n",
       "      <td>RandD</td>\n",
       "      <td>0.017700</td>\n",
       "    </tr>\n",
       "    <tr>\n",
       "      <th>8</th>\n",
       "      <td>accounting</td>\n",
       "      <td>0.064333</td>\n",
       "    </tr>\n",
       "    <tr>\n",
       "      <th>9</th>\n",
       "      <td>hr</td>\n",
       "      <td>-0.090614</td>\n",
       "    </tr>\n",
       "    <tr>\n",
       "      <th>10</th>\n",
       "      <td>management</td>\n",
       "      <td>0.004839</td>\n",
       "    </tr>\n",
       "    <tr>\n",
       "      <th>11</th>\n",
       "      <td>marketing</td>\n",
       "      <td>-0.019079</td>\n",
       "    </tr>\n",
       "    <tr>\n",
       "      <th>12</th>\n",
       "      <td>product_mng</td>\n",
       "      <td>0.006954</td>\n",
       "    </tr>\n",
       "    <tr>\n",
       "      <th>13</th>\n",
       "      <td>sales</td>\n",
       "      <td>0.040075</td>\n",
       "    </tr>\n",
       "    <tr>\n",
       "      <th>14</th>\n",
       "      <td>support</td>\n",
       "      <td>0.050979</td>\n",
       "    </tr>\n",
       "    <tr>\n",
       "      <th>15</th>\n",
       "      <td>technical</td>\n",
       "      <td>-0.389549</td>\n",
       "    </tr>\n",
       "    <tr>\n",
       "      <th>16</th>\n",
       "      <td>high</td>\n",
       "      <td>0.234500</td>\n",
       "    </tr>\n",
       "    <tr>\n",
       "      <th>17</th>\n",
       "      <td>low</td>\n",
       "      <td>-0.019192</td>\n",
       "    </tr>\n",
       "    <tr>\n",
       "      <th>18</th>\n",
       "      <td>medium</td>\n",
       "      <td>0.119627</td>\n",
       "    </tr>\n",
       "    <tr>\n",
       "      <th>19</th>\n",
       "      <td>0</td>\n",
       "      <td>-0.119627</td>\n",
       "    </tr>\n",
       "    <tr>\n",
       "      <th>20</th>\n",
       "      <td>1</td>\n",
       "      <td>0.268624</td>\n",
       "    </tr>\n",
       "    <tr>\n",
       "      <th>21</th>\n",
       "      <td>Category_0</td>\n",
       "      <td>-0.268624</td>\n",
       "    </tr>\n",
       "    <tr>\n",
       "      <th>22</th>\n",
       "      <td>Category_1</td>\n",
       "      <td>NaN</td>\n",
       "    </tr>\n",
       "  </tbody>\n",
       "</table>\n",
       "</div>"
      ],
      "text/plain": [
       "                  Features  Coefficient Estimate\n",
       "0       satisfaction_level             -1.004650\n",
       "1   last_evaluation_rating              0.098953\n",
       "2       projects_worked_on             -0.363422\n",
       "3     average_montly_hours              0.228856\n",
       "4       time_spend_company              0.387583\n",
       "5                Attrition             -0.028490\n",
       "6                       IT             -0.114764\n",
       "7                    RandD              0.017700\n",
       "8               accounting              0.064333\n",
       "9                       hr             -0.090614\n",
       "10              management              0.004839\n",
       "11               marketing             -0.019079\n",
       "12             product_mng              0.006954\n",
       "13                   sales              0.040075\n",
       "14                 support              0.050979\n",
       "15               technical             -0.389549\n",
       "16                    high              0.234500\n",
       "17                     low             -0.019192\n",
       "18                  medium              0.119627\n",
       "19                       0             -0.119627\n",
       "20                       1              0.268624\n",
       "21              Category_0             -0.268624\n",
       "22              Category_1                   NaN"
      ]
     },
     "execution_count": 67,
     "metadata": {},
     "output_type": "execute_result"
    }
   ],
   "source": [
    "# get Correlation Coefficient for each feature using Logistic Regression\n",
    "coeff_df = DataFrame(df.columns)\n",
    "coeff_df.columns = ['Features']\n",
    "coeff_df[\"Coefficient Estimate\"] = pd.Series(logreg.coef_[0])\n",
    "\n",
    "# preview\n",
    "coeff_df"
   ]
  },
  {
   "cell_type": "code",
   "execution_count": null,
   "metadata": {
    "collapsed": false
   },
   "outputs": [],
   "source": [
    "##need to work\n",
    "\n",
    "from sklearn import datasets\n",
    "from sklearn.linear_model import LogisticRegression\n",
    "from sklearn.linear_model import SGDClassifier\n",
    "import numpy as np\n",
    "import pandas as pd\n",
    "from sklearn.cross_validation import KFold\n",
    "from sklearn.metrics import accuracy_score\n",
    "\n",
    "\n",
    "\n",
    "##Join test and Train\n",
    "\n",
    "#df_merge=pd.append([df_scale, df_test_scale])\n",
    "#y_merge=pd.concat([X_test, y_test])\n",
    "df_merge = X_train.append(X_test, ignore_index=True)\n",
    "df_merge=scale(df_merge)\n",
    "\n",
    "numFolds = 10\n",
    "kf = KFold(len(df_merge), numFolds, shuffle=True)\n",
    "\n",
    "# These are \"Class objects\". For each Class, find the AUC through\n",
    "# 10 fold cross validation.\n",
    "Models = [LogisticRegression, SGDClassifier]\n",
    "params = [{}, {\"loss\": \"log\", \"penalty\": \"l2\", 'n_iter':1000}]\n",
    "for param, Model in zip(params, Models):\n",
    "    total = 0\n",
    "    for train_indices, test_indices in kf:\n",
    "        train_X = df_merge[train_indices, :]; train_Y = df_merge[train_indices]\n",
    "        test_X = df_merge[test_indices, :]; test_Y = df_merge[test_indices]\n",
    "\n",
    "        reg = Model(**param)\n",
    "        reg.fit(train_X, train_Y)\n",
    "        predictions = reg.predict(test_X)\n",
    "        total += accuracy_score(test_Y, predictions)\n",
    "    accuracy = total / numFolds\n",
    "    print (\"Accuracy score of {0}: {1}\".format(Model.__name__, accuracy))"
   ]
  },
  {
   "cell_type": "code",
   "execution_count": null,
   "metadata": {
    "collapsed": false
   },
   "outputs": [],
   "source": [
    "kf = KFold(len(df_merge), numFolds, shuffle=True)\n",
    "kf"
   ]
  },
  {
   "cell_type": "code",
   "execution_count": 68,
   "metadata": {
    "collapsed": true
   },
   "outputs": [],
   "source": [
    "from sklearn.preprocessing import scale\n",
    "df_scale=scale(X_train)\n",
    "df_test_scale=scale(X_test)"
   ]
  },
  {
   "cell_type": "code",
   "execution_count": 71,
   "metadata": {
    "collapsed": true
   },
   "outputs": [],
   "source": [
    "#df_cv=pd.DataFrame(df_scale)\n",
    "#df_test_cv=pd.DataFrame(df_scale)"
   ]
  },
  {
   "cell_type": "code",
   "execution_count": 83,
   "metadata": {
    "collapsed": false
   },
   "outputs": [
    {
     "name": "stdout",
     "output_type": "stream",
     "text": [
      "\n",
      " {'n_estimators': 700, 'max_features': 'auto'}\n"
     ]
    }
   ],
   "source": [
    "from sklearn.grid_search import GridSearchCV\n",
    "from sklearn.cross_validation import train_test_split\n",
    "X = X_train\n",
    "y = y_train\n",
    "\n",
    "X_train, X_test, y_train, y_test = train_test_split(X, y, test_size=0.2, random_state=0)\n",
    "\n",
    "rfc = RandomForestClassifier(n_jobs=-1,max_features= 'sqrt' ,n_estimators=50, oob_score = True) \n",
    "\n",
    "param_grid = {\n",
    "    'n_estimators': [200, 700],\n",
    "    'max_features': ['auto', 'sqrt', 'log2']\n",
    "}\n",
    "\n",
    "CV_rfc = GridSearchCV(estimator=rfc, param_grid=param_grid, cv= 5)\n",
    "CV_rfc.fit(X_train, y_train)\n",
    "print ('\\n',CV_rfc.best_params_)"
   ]
  },
  {
   "cell_type": "code",
   "execution_count": 84,
   "metadata": {
    "collapsed": false
   },
   "outputs": [
    {
     "name": "stdout",
     "output_type": "stream",
     "text": [
      "Accuracy of random_forest on test set: 0.99\n"
     ]
    }
   ],
   "source": [
    "Y_pred = CV_rfc.predict(X_test)\n",
    "print('Accuracy of random_forest on test set: {:.2f}'.format(CV_rfc.score(X_test, y_test)))"
   ]
  },
  {
   "cell_type": "code",
   "execution_count": 88,
   "metadata": {
    "collapsed": false
   },
   "outputs": [
    {
     "name": "stdout",
     "output_type": "stream",
     "text": [
      "Accuracy of random_forest on test set: 0.99\n"
     ]
    }
   ],
   "source": [
    "X_test=df_test.drop('Attrition', axis=1)\n",
    "y_test=df_test['Attrition']\n",
    "X_test.drop(['ID'], axis=1,inplace=True)\n",
    "X_test.head()\n",
    "Y_pred = CV_rfc.predict(X_test)\n",
    "print('Accuracy of random_forest on test set: {:.2f}'.format(CV_rfc.score(X_test, y_test)))\n",
    "#Random forest with 200 estimators accuracy 0.99"
   ]
  },
  {
   "cell_type": "code",
   "execution_count": 91,
   "metadata": {
    "collapsed": true
   },
   "outputs": [],
   "source": [
    "Y_pred_proba = CV_rfc.predict_proba(X_test)"
   ]
  },
  {
   "cell_type": "code",
   "execution_count": 92,
   "metadata": {
    "collapsed": false
   },
   "outputs": [
    {
     "data": {
      "text/plain": [
       "array([[ 0.06428571,  0.93571429],\n",
       "       [ 0.        ,  1.        ],\n",
       "       [ 0.        ,  1.        ],\n",
       "       ..., \n",
       "       [ 0.01857143,  0.98142857],\n",
       "       [ 0.        ,  1.        ],\n",
       "       [ 0.        ,  1.        ]])"
      ]
     },
     "execution_count": 92,
     "metadata": {},
     "output_type": "execute_result"
    }
   ],
   "source": [
    "Y_pred_proba"
   ]
  },
  {
   "cell_type": "code",
   "execution_count": null,
   "metadata": {
    "collapsed": false
   },
   "outputs": [],
   "source": [
    "submission = pd.DataFrame({\n",
    "        \"ID\": df_test['ID'],\n",
    "        \"Attrition\": max_value(Y_pred_proba)\n",
    "        \n",
    "    })\n",
    "submission"
   ]
  },
  {
   "cell_type": "code",
   "execution_count": null,
   "metadata": {
    "collapsed": false
   },
   "outputs": [],
   "source": [
    "def max_value(inputlist):\n",
    "    return ([sublist[-1] for sublist in inputlist])\n",
    "\n",
    "print (max_value(Y_pred_proba))"
   ]
  },
  {
   "cell_type": "code",
   "execution_count": 112,
   "metadata": {
    "collapsed": true
   },
   "outputs": [],
   "source": [
    "submission = submission[[\"ID\",\"Attrition\"]] \n",
    "submission.to_csv('submission.csv', index=False,cols=[\"ID\",\"Attrition\"])"
   ]
  },
  {
   "cell_type": "code",
   "execution_count": null,
   "metadata": {
    "collapsed": true
   },
   "outputs": [],
   "source": []
  }
 ],
 "metadata": {
  "anaconda-cloud": {},
  "kernelspec": {
   "display_name": "Python [default]",
   "language": "python",
   "name": "python3"
  },
  "language_info": {
   "codemirror_mode": {
    "name": "ipython",
    "version": 3
   },
   "file_extension": ".py",
   "mimetype": "text/x-python",
   "name": "python",
   "nbconvert_exporter": "python",
   "pygments_lexer": "ipython3",
   "version": "3.5.2"
  }
 },
 "nbformat": 4,
 "nbformat_minor": 1
}
